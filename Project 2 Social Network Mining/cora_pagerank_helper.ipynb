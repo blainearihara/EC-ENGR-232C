{
  "cells": [
    {
      "cell_type": "code",
      "execution_count": 1,
      "metadata": {
        "colab": {
          "base_uri": "https://localhost:8080/"
        },
        "id": "WC5Rq99els1H",
        "outputId": "a4c56def-6bb8-4a0f-d9bc-c6c81b7adcc0"
      },
      "outputs": [
        {
          "name": "stdout",
          "output_type": "stream",
          "text": [
            "unzip:  cannot find or open cora (extract.me).zip, cora (extract.me).zip.zip or cora (extract.me).zip.ZIP.\n"
          ]
        }
      ],
      "source": [
        "import numpy as np\n",
        "import os\n",
        "import networkx as nx\n",
        "from sklearn.model_selection import train_test_split\n",
        "import pandas as pd\n",
        "from sklearn.metrics import accuracy_score\n",
        "from sklearn.metrics import classification_report\n",
        "from numpy import dot\n",
        "from numpy.linalg import norm\n",
        "\n",
        "\n",
        "from collections import Counter\n",
        "import matplotlib.pyplot as plt\n",
        "\n"
      ]
    },
    {
      "cell_type": "code",
      "execution_count": 2,
      "metadata": {
        "id": "x91rSYec3lQb"
      },
      "outputs": [],
      "source": [
        "all_data = []\n",
        "all_edges = []\n",
        "\n",
        "for root,dirs,files in os.walk('./cora'):\n",
        "    for file in files:\n",
        "        if '.content' in file:\n",
        "            with open(os.path.join(root,file),'r') as f:\n",
        "                all_data.extend(f.read().splitlines())\n",
        "        elif 'cites' in file:\n",
        "            with open(os.path.join(root,file),'r') as f:\n",
        "                all_edges.extend(f.read().splitlines())\n",
        "\n",
        "                \n",
        "#random_state = 42\n",
        "#all_data = shuffle(all_data,random_state=random_state)"
      ]
    },
    {
      "cell_type": "code",
      "execution_count": 4,
      "metadata": {
        "colab": {
          "base_uri": "https://localhost:8080/"
        },
        "id": "aS4GfV8pCPbF",
        "outputId": "91ec3fd2-0636-4ed4-8e58-6be408503779"
      },
      "outputs": [
        {
          "data": {
            "text/plain": [
              "{'Case_Based': 0,\n",
              " 'Genetic_Algorithms': 1,\n",
              " 'Neural_Networks': 2,\n",
              " 'Probabilistic_Methods': 3,\n",
              " 'Reinforcement_Learning': 4,\n",
              " 'Rule_Learning': 5,\n",
              " 'Theory': 6}"
            ]
          },
          "execution_count": 4,
          "metadata": {},
          "output_type": "execute_result"
        }
      ],
      "source": [
        "categories =  ['Reinforcement_Learning', 'Theory', 'Case_Based', 'Genetic_Algorithms', 'Probabilistic_Methods', 'Neural_Networks', 'Rule_Learning']\n",
        "sorted(categories)\n",
        "label_encoder = {}\n",
        "i = 0\n",
        "for cat in sorted(categories):\n",
        "  label_encoder[cat] = i\n",
        "  i +=1\n",
        "label_encoder\n"
      ]
    },
    {
      "cell_type": "code",
      "execution_count": 5,
      "metadata": {
        "colab": {
          "base_uri": "https://localhost:8080/"
        },
        "id": "yAK_lPbU4Rxo",
        "outputId": "a5e69cae-6ae9-414c-fb3a-40b91a59cb95"
      },
      "outputs": [
        {
          "name": "stdout",
          "output_type": "stream",
          "text": [
            "X shape:  (2708, 1433)\n",
            "\n",
            "Number of nodes (N):  2708\n",
            "\n",
            "Number of features (F) of each node:  1433\n",
            "\n",
            "Categories:  {0, 1, 2, 3, 4, 5, 6}\n",
            "\n",
            "Number of classes:  7\n"
          ]
        }
      ],
      "source": [
        "#parse the data\n",
        "labels = []\n",
        "nodes = []\n",
        "X = []\n",
        "element_to_ind  = {}\n",
        "\n",
        "for i,data in enumerate(all_data):\n",
        "    elements = data.split('\\t')\n",
        "    labels.append(label_encoder[elements[-1]])\n",
        "    X.append(elements[1:-1])\n",
        "    nodes.append(elements[0])\n",
        "    element_to_ind[elements[0]]= i\n",
        "X = np.array(X,dtype=int)\n",
        "N = X.shape[0] #the number of nodes\n",
        "F = X.shape[1] #the size of node features\n",
        "print('X shape: ', X.shape)\n",
        "\n",
        "\n",
        "#parse the edge\n",
        "edge_list=[]\n",
        "for edge in all_edges:\n",
        "    e = edge.split('\\t')\n",
        "    edge_list.append((e[0],e[1]))\n",
        "\n",
        "print('\\nNumber of nodes (N): ', N)\n",
        "print('\\nNumber of features (F) of each node: ', F)\n",
        "print('\\nCategories: ', set(labels))\n",
        "\n",
        "num_classes = len(set(labels))\n",
        "print('\\nNumber of classes: ', num_classes)\n"
      ]
    },
    {
      "cell_type": "code",
      "execution_count": 7,
      "metadata": {
        "colab": {
          "base_uri": "https://localhost:8080/"
        },
        "id": "Z3m0ubWRG1Yo",
        "outputId": "70467102-a822-44e2-de82-926836358c6a"
      },
      "outputs": [
        {
          "name": "stdout",
          "output_type": "stream",
          "text": [
            "Graph info:  Graph with 2708 nodes and 5278 edges\n"
          ]
        },
        {
          "name": "stderr",
          "output_type": "stream",
          "text": [
            "/tmp/ipykernel_645724/1788189256.py:5: DeprecationWarning: info is deprecated and will be removed in version 3.0.\n",
            "\n",
            "  print('Graph info: ', nx.info(G))\n"
          ]
        }
      ],
      "source": [
        "G = nx.Graph()\n",
        "G.add_nodes_from(nodes)\n",
        "G.add_edges_from(edge_list)\n",
        "G = nx.relabel_nodes(G, element_to_ind)\n",
        "print('Graph info: ', nx.info(G))"
      ]
    },
    {
      "cell_type": "code",
      "execution_count": 8,
      "metadata": {
        "colab": {
          "base_uri": "https://localhost:8080/"
        },
        "id": "m4sv0RttHH9_",
        "outputId": "6f849910-258c-4ba9-cd2d-1422217e351f"
      },
      "outputs": [
        {
          "name": "stdout",
          "output_type": "stream",
          "text": [
            "2708\n"
          ]
        },
        {
          "data": {
            "text/plain": [
              "[258, 544, 8, 435, 14]"
            ]
          },
          "execution_count": 8,
          "metadata": {},
          "output_type": "execute_result"
        }
      ],
      "source": [
        "nodes = list(G.nodes)\n",
        "print(len(nodes))\n",
        "list(G.neighbors(0))"
      ]
    },
    {
      "cell_type": "code",
      "execution_count": 9,
      "metadata": {
        "colab": {
          "base_uri": "https://localhost:8080/",
          "height": 223
        },
        "id": "6he3sYO8-kf_",
        "outputId": "36c76451-6552-4ede-ace0-4f14404eef84"
      },
      "outputs": [
        {
          "name": "stdout",
          "output_type": "stream",
          "text": [
            "2708\n"
          ]
        },
        {
          "data": {
            "text/html": [
              "<div>\n",
              "<style scoped>\n",
              "    .dataframe tbody tr th:only-of-type {\n",
              "        vertical-align: middle;\n",
              "    }\n",
              "\n",
              "    .dataframe tbody tr th {\n",
              "        vertical-align: top;\n",
              "    }\n",
              "\n",
              "    .dataframe thead th {\n",
              "        text-align: right;\n",
              "    }\n",
              "</style>\n",
              "<table border=\"1\" class=\"dataframe\">\n",
              "  <thead>\n",
              "    <tr style=\"text-align: right;\">\n",
              "      <th></th>\n",
              "      <th>node</th>\n",
              "      <th>label</th>\n",
              "      <th>features</th>\n",
              "    </tr>\n",
              "  </thead>\n",
              "  <tbody>\n",
              "    <tr>\n",
              "      <th>0</th>\n",
              "      <td>0</td>\n",
              "      <td>2</td>\n",
              "      <td>[0, 0, 0, 0, 0, 0, 0, 0, 0, 0, 0, 0, 0, 0, 0, ...</td>\n",
              "    </tr>\n",
              "    <tr>\n",
              "      <th>1</th>\n",
              "      <td>1</td>\n",
              "      <td>5</td>\n",
              "      <td>[0, 0, 0, 0, 0, 0, 0, 0, 0, 0, 0, 0, 1, 0, 0, ...</td>\n",
              "    </tr>\n",
              "    <tr>\n",
              "      <th>2</th>\n",
              "      <td>2</td>\n",
              "      <td>4</td>\n",
              "      <td>[0, 0, 0, 0, 0, 0, 0, 0, 0, 0, 0, 0, 0, 0, 0, ...</td>\n",
              "    </tr>\n",
              "    <tr>\n",
              "      <th>3</th>\n",
              "      <td>3</td>\n",
              "      <td>4</td>\n",
              "      <td>[0, 0, 0, 0, 0, 0, 0, 0, 0, 0, 0, 0, 0, 0, 0, ...</td>\n",
              "    </tr>\n",
              "    <tr>\n",
              "      <th>4</th>\n",
              "      <td>4</td>\n",
              "      <td>3</td>\n",
              "      <td>[0, 0, 0, 0, 0, 0, 0, 0, 0, 0, 0, 0, 0, 0, 0, ...</td>\n",
              "    </tr>\n",
              "  </tbody>\n",
              "</table>\n",
              "</div>"
            ],
            "text/plain": [
              "   node  label                                           features\n",
              "0     0      2  [0, 0, 0, 0, 0, 0, 0, 0, 0, 0, 0, 0, 0, 0, 0, ...\n",
              "1     1      5  [0, 0, 0, 0, 0, 0, 0, 0, 0, 0, 0, 0, 1, 0, 0, ...\n",
              "2     2      4  [0, 0, 0, 0, 0, 0, 0, 0, 0, 0, 0, 0, 0, 0, 0, ...\n",
              "3     3      4  [0, 0, 0, 0, 0, 0, 0, 0, 0, 0, 0, 0, 0, 0, 0, ...\n",
              "4     4      3  [0, 0, 0, 0, 0, 0, 0, 0, 0, 0, 0, 0, 0, 0, 0, ..."
            ]
          },
          "execution_count": 9,
          "metadata": {},
          "output_type": "execute_result"
        }
      ],
      "source": [
        "df = pd.DataFrame(list(zip(nodes, labels,X)),columns =['node', 'label','features'])\n",
        "print(len(df))\n",
        "df.head()"
      ]
    },
    {
      "cell_type": "code",
      "execution_count": 10,
      "metadata": {
        "id": "OzKIpJxu4t1R"
      },
      "outputs": [],
      "source": [
        "Gcc = sorted(nx.connected_components(G), key=len, reverse=True)\n",
        "G = G.subgraph(Gcc[0])\n",
        "gcc_nodes = list(G.nodes)"
      ]
    },
    {
      "cell_type": "code",
      "execution_count": 11,
      "metadata": {
        "colab": {
          "base_uri": "https://localhost:8080/",
          "height": 310
        },
        "id": "LGfGmfIfCagn",
        "outputId": "c9f1c127-3968-413c-dfe6-2d14d54aec85"
      },
      "outputs": [
        {
          "data": {
            "text/html": [
              "<div>\n",
              "<style scoped>\n",
              "    .dataframe tbody tr th:only-of-type {\n",
              "        vertical-align: middle;\n",
              "    }\n",
              "\n",
              "    .dataframe tbody tr th {\n",
              "        vertical-align: top;\n",
              "    }\n",
              "\n",
              "    .dataframe thead th {\n",
              "        text-align: right;\n",
              "    }\n",
              "</style>\n",
              "<table border=\"1\" class=\"dataframe\">\n",
              "  <thead>\n",
              "    <tr style=\"text-align: right;\">\n",
              "      <th></th>\n",
              "      <th>node</th>\n",
              "      <th>label</th>\n",
              "      <th>features</th>\n",
              "    </tr>\n",
              "  </thead>\n",
              "  <tbody>\n",
              "    <tr>\n",
              "      <th>0</th>\n",
              "      <td>0</td>\n",
              "      <td>2</td>\n",
              "      <td>[0, 0, 0, 0, 0, 0, 0, 0, 0, 0, 0, 0, 0, 0, 0, ...</td>\n",
              "    </tr>\n",
              "    <tr>\n",
              "      <th>1</th>\n",
              "      <td>1</td>\n",
              "      <td>5</td>\n",
              "      <td>[0, 0, 0, 0, 0, 0, 0, 0, 0, 0, 0, 0, 1, 0, 0, ...</td>\n",
              "    </tr>\n",
              "    <tr>\n",
              "      <th>2</th>\n",
              "      <td>2</td>\n",
              "      <td>4</td>\n",
              "      <td>[0, 0, 0, 0, 0, 0, 0, 0, 0, 0, 0, 0, 0, 0, 0, ...</td>\n",
              "    </tr>\n",
              "    <tr>\n",
              "      <th>3</th>\n",
              "      <td>3</td>\n",
              "      <td>4</td>\n",
              "      <td>[0, 0, 0, 0, 0, 0, 0, 0, 0, 0, 0, 0, 0, 0, 0, ...</td>\n",
              "    </tr>\n",
              "    <tr>\n",
              "      <th>4</th>\n",
              "      <td>4</td>\n",
              "      <td>3</td>\n",
              "      <td>[0, 0, 0, 0, 0, 0, 0, 0, 0, 0, 0, 0, 0, 0, 0, ...</td>\n",
              "    </tr>\n",
              "  </tbody>\n",
              "</table>\n",
              "</div>"
            ],
            "text/plain": [
              "   node  label                                           features\n",
              "0     0      2  [0, 0, 0, 0, 0, 0, 0, 0, 0, 0, 0, 0, 0, 0, 0, ...\n",
              "1     1      5  [0, 0, 0, 0, 0, 0, 0, 0, 0, 0, 0, 0, 1, 0, 0, ...\n",
              "2     2      4  [0, 0, 0, 0, 0, 0, 0, 0, 0, 0, 0, 0, 0, 0, 0, ...\n",
              "3     3      4  [0, 0, 0, 0, 0, 0, 0, 0, 0, 0, 0, 0, 0, 0, 0, ...\n",
              "4     4      3  [0, 0, 0, 0, 0, 0, 0, 0, 0, 0, 0, 0, 0, 0, 0, ..."
            ]
          },
          "execution_count": 11,
          "metadata": {},
          "output_type": "execute_result"
        }
      ],
      "source": [
        "df = df.loc[df['node'].isin(gcc_nodes)]\n",
        "df['node'] = list(range(len(df))) #rename nodes \n",
        "df.head()"
      ]
    },
    {
      "cell_type": "code",
      "execution_count": 12,
      "metadata": {
        "id": "eTFmrdSkFbkC"
      },
      "outputs": [],
      "source": [
        "train = df.groupby('label', group_keys=False).apply(lambda x: x.sample(20))\n",
        "G = nx.relabel_nodes(G, df['node'])"
      ]
    },
    {
      "cell_type": "code",
      "execution_count": 13,
      "metadata": {
        "id": "-TbwmeDAoMyg"
      },
      "outputs": [],
      "source": [
        "def create_transition_matrix(g):\n",
        "    vs = list(g.nodes)\n",
        "    n = len(vs)\n",
        "    adj = nx.adjacency_matrix(g)\n",
        "    transition_matrix = adj/adj.sum(axis=1)\n",
        "\n",
        "    return transition_matrix"
      ]
    },
    {
      "cell_type": "code",
      "execution_count": 16,
      "metadata": {
        "id": "L2Nq1801raPj"
      },
      "outputs": [],
      "source": [
        "def random_walk(g, num_steps, start_node, transition_matrix = None):\n",
        "  if transition_matrix is None:\n",
        "    transition_matrix = create_transition_matrix(g)\n",
        "  #perform a random walk\n",
        "  v = start_node\n",
        "  walked_nodes = range(transition_matrix.shape[0])\n",
        "\n",
        "  for i in range(num_steps):\n",
        "      PMF = transition_matrix[v,]\n",
        "      v = np.random.choice(walked_nodes, p = np.ravel(PMF, order = 'C'))\n",
        "\n",
        "  return v\n"
      ]
    },
    {
      "cell_type": "code",
      "execution_count": 17,
      "metadata": {
        "id": "spCD5MySNj12"
      },
      "outputs": [],
      "source": [
        "seeds_dict = {predicted:list(train[train['label'] == predicted]['node']) for predicted in range(7)}\n",
        "\n",
        "def random_walk_with_teleportation(g, num_steps, start_node,tp,predicted, transition_matrix = None):\n",
        "  #modify random walk code to add teleportation.\n",
        "  #you can only teleport to a node belonging to the same class as the start node\n",
        "  if transition_matrix is None:\n",
        "    transition_matrix = create_transition_matrix(g)\n",
        "\n",
        "  v = start_node\n",
        "  walked_nodes = range(transition_matrix.shape[0])\n",
        "  seeds = seeds_dict[predicted]\n",
        "\n",
        "  for i in range(num_steps):\n",
        "      run = np.random.uniform(low=0.0, high=1.0, size=None)\n",
        "      if run < tp:\n",
        "          v = np.random.choice(seeds)\n",
        "      else:\n",
        "          PMF = transition_matrix[v,]\n",
        "          v = np.random.choice(walked_nodes, p = np.ravel(PMF, order='C'))\n",
        "\n",
        "  return v\n",
        "\n",
        "  #return v\n"
      ]
    },
    {
      "cell_type": "code",
      "execution_count": 19,
      "metadata": {
        "id": "bHSti-Kb55HZ"
      },
      "outputs": [
        {
          "name": "stderr",
          "output_type": "stream",
          "text": [
            "/tmp/ipykernel_645724/2140906970.py:4: FutureWarning: adjacency_matrix will return a scipy.sparse array instead of a matrix in Networkx 3.0.\n",
            "  adj = nx.adjacency_matrix(g)\n"
          ]
        }
      ],
      "source": [
        "#pagerank. NO teleportation, NO tfidf. \n",
        "transition_matrix = create_transition_matrix(G)\n",
        "\n",
        "num_samples = 1000  \n",
        "num_walk_steps = 100\n",
        "\n",
        "visiting_freq_label = []\n",
        "for i in range(transition_matrix.shape[0]):\n",
        "  visiting_freq_label.append([0,0,0,0,0,0,0])\n",
        "\n",
        "visiting_freq = [0 for i in range(transition_matrix.shape[0])]\n",
        "\n",
        "\n",
        "for train_node,predicted in zip(train['node'],train['label']):\n",
        "  #print (train_node,predicted)\n",
        "  for i in range(num_samples):\n",
        "      start_point = train_node\n",
        "      end_node = random_walk(G, num_walk_steps, start_point, transition_matrix)\n",
        "      visiting_freq_label[end_node][predicted] += 1\n",
        "      visiting_freq[end_node] +=1"
      ]
    },
    {
      "cell_type": "code",
      "execution_count": 20,
      "metadata": {
        "id": "-br2DAZUKhe1"
      },
      "outputs": [
        {
          "name": "stdout",
          "output_type": "stream",
          "text": [
            "Pagerank without teleportation\n",
            "unvisited =  0\n",
            "              precision    recall  f1-score   support\n",
            "\n",
            "           0       0.31      0.52      0.39       285\n",
            "           1       0.39      0.45      0.42       406\n",
            "           2       0.49      0.25      0.33       726\n",
            "           3       0.68      0.57      0.62       379\n",
            "           4       0.10      0.14      0.12       214\n",
            "           5       0.11      0.24      0.15       131\n",
            "           6       0.26      0.19      0.22       344\n",
            "\n",
            "    accuracy                           0.34      2485\n",
            "   macro avg       0.33      0.34      0.32      2485\n",
            "weighted avg       0.40      0.34      0.35      2485\n",
            "\n"
          ]
        },
        {
          "data": {
            "text/plain": [
              "0.344466800804829"
            ]
          },
          "execution_count": 20,
          "metadata": {},
          "output_type": "execute_result"
        }
      ],
      "source": [
        "count = 0 #these many nodes remain unvisited. \n",
        "for vf in visiting_freq:\n",
        "  if vf ==0:\n",
        "    count+=1\n",
        "print('Pagerank without teleportation')\n",
        "print('unvisited = ', count)\n",
        "visiting_freq_label = np.asarray(visiting_freq_label)\n",
        "preds = np.argmax(visiting_freq_label,axis = 1)\n",
        "print(classification_report(df['label'], preds))\n",
        "accuracy_score(df['label'], preds)"
      ]
    },
    {
      "cell_type": "code",
      "execution_count": 23,
      "metadata": {
        "id": "LL7DHNaNM1E0"
      },
      "outputs": [],
      "source": [
        "#pagerank. WITH telportation, without tfidf \n",
        "\n",
        "#repeat above expeiment but this time use the teleportation random walk \n",
        "\n",
        "#get metrics\n",
        "def page_rank_teleportation(graph, tele_prob):\n",
        "  G = graph \n",
        "  transition_matrix = create_transition_matrix(G)\n",
        "\n",
        "  num_samples = 1000  \n",
        "  num_walk_steps = 100\n",
        "\n",
        "  visiting_freq_label = []\n",
        "  for i in range(transition_matrix.shape[0]):\n",
        "    visiting_freq_label.append([0,0,0,0,0,0,0])\n",
        "\n",
        "  visiting_freq = [0 for i in range(transition_matrix.shape[0])]\n",
        "\n",
        "  for train_node,predicted in zip(train['node'],train['label']):\n",
        "        for i in range(num_samples):\n",
        "            start_point = train_node\n",
        "            end_node = random_walk_with_teleportation(G, num_walk_steps, start_point, tele_prob, predicted, transition_matrix)\n",
        "            end_node = int(end_node)\n",
        "            visiting_freq_label[end_node][predicted] += 1\n",
        "            visiting_freq[end_node] +=1\n",
        "\n",
        "  count = 0 #these many nodes remain unvisited. \n",
        "  for vf in visiting_freq:\n",
        "      if vf ==0:\n",
        "          count+=1\n",
        "\n",
        "  print(\"Pagerank Random Walk with teleportation, No TF-IDF \")\n",
        "  print('unvisited = ', count)\n",
        "  visiting_freq_label = np.asarray(visiting_freq_label)\n",
        "  preds = np.argmax(visiting_freq_label,axis = 1)\n",
        "  print(classification_report(df['label'], preds))\n",
        "  print(\"Accuracy: \", accuracy_score(df['label'], preds))"
      ]
    },
    {
      "cell_type": "code",
      "execution_count": 24,
      "metadata": {},
      "outputs": [
        {
          "name": "stdout",
          "output_type": "stream",
          "text": [
            "teleportation probability:  0.1\n"
          ]
        },
        {
          "name": "stderr",
          "output_type": "stream",
          "text": [
            "/tmp/ipykernel_645724/2140906970.py:4: FutureWarning: adjacency_matrix will return a scipy.sparse array instead of a matrix in Networkx 3.0.\n",
            "  adj = nx.adjacency_matrix(g)\n"
          ]
        },
        {
          "name": "stdout",
          "output_type": "stream",
          "text": [
            "Pagerank Random Walk with teleportation, No TF-IDF \n",
            "unvisited =  34\n",
            "              precision    recall  f1-score   support\n",
            "\n",
            "           0       0.65      0.76      0.70       285\n",
            "           1       0.81      0.91      0.86       406\n",
            "           2       0.82      0.52      0.64       726\n",
            "           3       0.78      0.79      0.79       379\n",
            "           4       0.60      0.82      0.70       214\n",
            "           5       0.50      0.81      0.62       131\n",
            "           6       0.61      0.61      0.61       344\n",
            "\n",
            "    accuracy                           0.71      2485\n",
            "   macro avg       0.68      0.75      0.70      2485\n",
            "weighted avg       0.73      0.71      0.70      2485\n",
            "\n",
            "Accuracy:  0.7070422535211267\n",
            "------------\n",
            "teleportation probability:  0.2\n"
          ]
        },
        {
          "name": "stderr",
          "output_type": "stream",
          "text": [
            "/tmp/ipykernel_645724/2140906970.py:4: FutureWarning: adjacency_matrix will return a scipy.sparse array instead of a matrix in Networkx 3.0.\n",
            "  adj = nx.adjacency_matrix(g)\n"
          ]
        },
        {
          "name": "stdout",
          "output_type": "stream",
          "text": [
            "Pagerank Random Walk with teleportation, No TF-IDF \n",
            "unvisited =  74\n",
            "              precision    recall  f1-score   support\n",
            "\n",
            "           0       0.57      0.76      0.65       285\n",
            "           1       0.81      0.88      0.84       406\n",
            "           2       0.82      0.52      0.63       726\n",
            "           3       0.76      0.75      0.76       379\n",
            "           4       0.60      0.82      0.69       214\n",
            "           5       0.55      0.76      0.64       131\n",
            "           6       0.60      0.63      0.61       344\n",
            "\n",
            "    accuracy                           0.69      2485\n",
            "   macro avg       0.67      0.73      0.69      2485\n",
            "weighted avg       0.72      0.69      0.69      2485\n",
            "\n",
            "Accuracy:  0.6933601609657948\n",
            "------------\n",
            "teleportation probability:  0.3\n"
          ]
        },
        {
          "name": "stderr",
          "output_type": "stream",
          "text": [
            "/tmp/ipykernel_645724/2140906970.py:4: FutureWarning: adjacency_matrix will return a scipy.sparse array instead of a matrix in Networkx 3.0.\n",
            "  adj = nx.adjacency_matrix(g)\n"
          ]
        },
        {
          "name": "stdout",
          "output_type": "stream",
          "text": [
            "Pagerank Random Walk with teleportation, No TF-IDF \n",
            "unvisited =  157\n",
            "              precision    recall  f1-score   support\n",
            "\n",
            "           0       0.46      0.73      0.57       285\n",
            "           1       0.81      0.87      0.84       406\n",
            "           2       0.81      0.46      0.59       726\n",
            "           3       0.77      0.73      0.75       379\n",
            "           4       0.57      0.81      0.67       214\n",
            "           5       0.54      0.76      0.63       131\n",
            "           6       0.60      0.59      0.60       344\n",
            "\n",
            "    accuracy                           0.66      2485\n",
            "   macro avg       0.65      0.71      0.66      2485\n",
            "weighted avg       0.70      0.66      0.66      2485\n",
            "\n",
            "Accuracy:  0.6631790744466801\n",
            "------------\n"
          ]
        }
      ],
      "source": [
        "tele_probs = [0.1, 0.2, 0.3 ]\n",
        "for tele_prob in tele_probs:\n",
        "  print(\"teleportation probability: \", tele_prob)\n",
        "  page_rank_teleportation(G, tele_prob)\n",
        "  print(\"------------\")"
      ]
    },
    {
      "cell_type": "code",
      "execution_count": 26,
      "metadata": {
        "id": "qAE5ZH3vWdD0"
      },
      "outputs": [
        {
          "name": "stderr",
          "output_type": "stream",
          "text": [
            "/tmp/ipykernel_645724/2329422368.py:3: FutureWarning: adjacency_matrix will return a scipy.sparse array instead of a matrix in Networkx 3.0.\n",
            "  adj = nx.adjacency_matrix(G)\n"
          ]
        }
      ],
      "source": [
        "vs = list(G.nodes)\n",
        "n = len(vs)\n",
        "adj = nx.adjacency_matrix(G)\n",
        "transition = np.zeros((len(G.nodes), len(G.nodes)))\n",
        "\n",
        "for n1 in nodes:\n",
        "  for n2 in nodes:\n",
        "    if G.has_edge(n1, n2):\n",
        "      f1 = list(df['features'])[n1]\n",
        "      f2 = list(df['features'])[n2]\n",
        "      cos_sim = np.dot(f1, f2)/(norm(f1)*norm(f2))\n",
        "      transition[n1,n2] = np.exp(cos_sim)\n",
        "    # if there is an edge between n1 and n2:\n",
        "      # cos_sim = compute cosine similarity between features of n1 and n2\n",
        "      # transition[n1,n2] = np.exp(cos_sim) #neumerator of softmax. #why do we need softmax?  \n",
        "# divide the values in transition by denominator of softmax. how will you do this? \n",
        "transition = transition/transition.sum(axis=1, keepdims=True)"
      ]
    },
    {
      "cell_type": "code",
      "execution_count": 27,
      "metadata": {
        "id": "CK9fLkhBwjZI"
      },
      "outputs": [],
      "source": [
        "def page_rank_teleportation_tfiDF(graph, tele_prob, transition_matrix):\n",
        "  G = graph \n",
        "#   transition_matrix = create_transition_matrix(G)\n",
        "\n",
        "  num_samples = 1000  \n",
        "  num_walk_steps = 100\n",
        "\n",
        "  visiting_freq_label = []\n",
        "  for i in range(transition_matrix.shape[0]):\n",
        "    visiting_freq_label.append([0,0,0,0,0,0,0])\n",
        "\n",
        "  visiting_freq = [0 for i in range(transition_matrix.shape[0])]\n",
        "\n",
        "  for train_node,predicted in zip(train['node'],train['label']):\n",
        "        for i in range(num_samples):\n",
        "            start_point = train_node\n",
        "            if tele_prob == 0:\n",
        "                end_node = random_walk(G, num_walk_steps, start_point, transition_matrix)\n",
        "            else:\n",
        "                end_node = random_walk_with_teleportation(G, num_walk_steps, start_point, tele_prob, predicted, transition_matrix)\n",
        "            end_node = int(end_node)\n",
        "            visiting_freq_label[end_node][predicted] += 1\n",
        "            visiting_freq[end_node] +=1\n",
        "\n",
        "  count = 0 #these many nodes remain unvisited. \n",
        "  for vf in visiting_freq:\n",
        "      if vf ==0:\n",
        "          count+=1\n",
        "\n",
        "  print(\"Pagerank Random Walk with teleportation, with TF-IDF \")\n",
        "  print('unvisited = ', count)\n",
        "  visiting_freq_label = np.asarray(visiting_freq_label)\n",
        "  preds = np.argmax(visiting_freq_label,axis = 1)\n",
        "  print(classification_report(df['label'], preds))\n",
        "  print('accuracy: ', accuracy_score(df['label'], preds) )"
      ]
    },
    {
      "cell_type": "code",
      "execution_count": 28,
      "metadata": {
        "id": "po-lfoxJrJ51"
      },
      "outputs": [
        {
          "name": "stdout",
          "output_type": "stream",
          "text": [
            "teleportation probability:  0\n",
            "Pagerank Random Walk with teleportation, with TF-IDF \n",
            "unvisited =  1\n",
            "              precision    recall  f1-score   support\n",
            "\n",
            "           0       0.36      0.58      0.45       285\n",
            "           1       0.46      0.51      0.48       406\n",
            "           2       0.47      0.25      0.33       726\n",
            "           3       0.64      0.55      0.59       379\n",
            "           4       0.14      0.19      0.16       214\n",
            "           5       0.10      0.23      0.14       131\n",
            "           6       0.24      0.20      0.22       344\n",
            "\n",
            "    accuracy                           0.36      2485\n",
            "   macro avg       0.34      0.36      0.34      2485\n",
            "weighted avg       0.40      0.36      0.37      2485\n",
            "\n",
            "accuracy:  0.3617706237424547\n",
            "------------\n",
            "teleportation probability:  0.2\n",
            "Pagerank Random Walk with teleportation, with TF-IDF \n",
            "unvisited =  86\n",
            "              precision    recall  f1-score   support\n",
            "\n",
            "           0       0.57      0.75      0.65       285\n",
            "           1       0.81      0.92      0.86       406\n",
            "           2       0.83      0.50      0.63       726\n",
            "           3       0.78      0.75      0.77       379\n",
            "           4       0.61      0.83      0.70       214\n",
            "           5       0.54      0.79      0.64       131\n",
            "           6       0.60      0.63      0.62       344\n",
            "\n",
            "    accuracy                           0.70      2485\n",
            "   macro avg       0.68      0.74      0.70      2485\n",
            "weighted avg       0.72      0.70      0.70      2485\n",
            "\n",
            "accuracy:  0.6989939637826962\n",
            "------------\n",
            "teleportation probability:  0.3\n",
            "Pagerank Random Walk with teleportation, with TF-IDF \n",
            "unvisited =  159\n",
            "              precision    recall  f1-score   support\n",
            "\n",
            "           0       0.46      0.74      0.57       285\n",
            "           1       0.81      0.85      0.83       406\n",
            "           2       0.82      0.48      0.61       726\n",
            "           3       0.77      0.76      0.77       379\n",
            "           4       0.57      0.81      0.67       214\n",
            "           5       0.59      0.77      0.67       131\n",
            "           6       0.62      0.60      0.61       344\n",
            "\n",
            "    accuracy                           0.67      2485\n",
            "   macro avg       0.66      0.72      0.67      2485\n",
            "weighted avg       0.71      0.67      0.67      2485\n",
            "\n",
            "accuracy:  0.6736418511066399\n",
            "------------\n"
          ]
        }
      ],
      "source": [
        "tele_probs = [0, 0.2, 0.3 ]\n",
        "for tele_prob in tele_probs:\n",
        "  print(\"teleportation probability: \", tele_prob)\n",
        "  page_rank_teleportation_tfiDF(G, tele_prob, transition)\n",
        "  print(\"------------\")"
      ]
    },
    {
      "cell_type": "code",
      "execution_count": 29,
      "metadata": {
        "id": "YlMOCxB5w6Ec"
      },
      "outputs": [
        {
          "name": "stdout",
          "output_type": "stream",
          "text": [
            "teleportation probability:  0.1\n",
            "Pagerank Random Walk with teleportation, with TF-IDF \n",
            "unvisited =  29\n",
            "              precision    recall  f1-score   support\n",
            "\n",
            "           0       0.65      0.77      0.71       285\n",
            "           1       0.82      0.92      0.87       406\n",
            "           2       0.82      0.52      0.64       726\n",
            "           3       0.80      0.78      0.79       379\n",
            "           4       0.61      0.83      0.70       214\n",
            "           5       0.49      0.82      0.62       131\n",
            "           6       0.60      0.61      0.61       344\n",
            "\n",
            "    accuracy                           0.71      2485\n",
            "   macro avg       0.69      0.75      0.70      2485\n",
            "weighted avg       0.73      0.71      0.71      2485\n",
            "\n",
            "accuracy:  0.7098591549295775\n",
            "------------\n"
          ]
        }
      ],
      "source": [
        "print(\"teleportation probability: \", 0.1)\n",
        "page_rank_teleportation_tfiDF(G, 0.1, transition)\n",
        "print(\"------------\")"
      ]
    }
  ],
  "metadata": {
    "colab": {
      "collapsed_sections": [],
      "name": "cora_pagerank_helper.ipynb",
      "provenance": []
    },
    "kernelspec": {
      "display_name": "Python 3",
      "name": "python3"
    },
    "language_info": {
      "codemirror_mode": {
        "name": "ipython",
        "version": 3
      },
      "file_extension": ".py",
      "mimetype": "text/x-python",
      "name": "python",
      "nbconvert_exporter": "python",
      "pygments_lexer": "ipython3",
      "version": "3.8.15"
    }
  },
  "nbformat": 4,
  "nbformat_minor": 0
}
