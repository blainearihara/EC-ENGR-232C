{
 "cells": [
  {
   "cell_type": "code",
   "execution_count": 10,
   "metadata": {
    "vscode": {
     "languageId": "r"
    }
   },
   "outputs": [],
   "source": [
    "library('igraph')\n",
    "library('Matrix')\n",
    "library('pracma')\n",
    "library('igraph')\n",
    "library('entropy')\n",
    "library('infotheo')"
   ]
  },
  {
   "cell_type": "code",
   "execution_count": 11,
   "metadata": {
    "vscode": {
     "languageId": "r"
    }
   },
   "outputs": [],
   "source": [
    "get_graph <- function(parent_path, name, directed=FALSE) {\n",
    "    node_edge_file = paste(parent_path, name, \".edges\", sep = '')\n",
    "    graph = read_graph(node_edge_file, format = c(\"ncol\"), directed = directed)\n",
    "    graph = add.vertices(graph, nv = 1, name = name)\n",
    "\n",
    "    index = which(V(graph)$name == name)\n",
    "\n",
    "    el = c()\n",
    "    for (vertex in 1:(vcount(graph) - 1)) {\n",
    "        el = c(el, c(index, vertex))\n",
    "    }\n",
    "    # print(el)\n",
    "    graph = add_edges(graph, el)\n",
    "    return (graph)\n",
    "}"
   ]
  },
  {
   "cell_type": "code",
   "execution_count": 12,
   "metadata": {
    "vscode": {
     "languageId": "r"
    }
   },
   "outputs": [
    {
     "name": "stdout",
     "output_type": "stream",
     "text": [
      "[1] 43\n"
     ]
    }
   ],
   "source": [
    "files = list.files(path = \"gplus\", pattern=\"*.circles\", full.names = TRUE)\n",
    "count = 0\n",
    "for (f in files){\n",
    "    c_file = paste( f, sep = '')\n",
    "    if (length(readLines(c_file)) > 2){\n",
    "        count = count + 1\n",
    "    }\n",
    "}\n",
    "print(count)"
   ]
  },
  {
   "cell_type": "code",
   "execution_count": 13,
   "metadata": {
    "vscode": {
     "languageId": "r"
    }
   },
   "outputs": [],
   "source": [
    "node_list = c(\"109327480479767108490\", \"115625564993990145546\", \"101373961279443806744\")"
   ]
  },
  {
   "cell_type": "code",
   "execution_count": 14,
   "metadata": {
    "vscode": {
     "languageId": "r"
    }
   },
   "outputs": [
    {
     "name": "stdout",
     "output_type": "stream",
     "text": [
      "[1] \"in-degree : mean=14.062, Variance=96.001\"\n",
      "[1] \"out-degree : mean=14.062, Variance=4588.177\"\n"
     ]
    },
    {
     "name": "stdout",
     "output_type": "stream",
     "text": [
      "[1] \"in-degree : mean=43.640, Variance=1020.621\"\n",
      "[1] \"out-degree : mean=43.640, Variance=9351.303\"\n",
      "[1] \"in-degree : mean=298.118, Variance=86408.770\"\n",
      "[1] \"out-degree : mean=298.118, Variance=166186.737\"\n"
     ]
    }
   ],
   "source": [
    "graph_list = list()\n",
    "for (node in node_list){\n",
    "    graph = get_graph(\"gplus/\", node, directed=TRUE)\n",
    "    print(sprintf(\"in-degree : mean=%5.3f, Variance=%5.3f\", mean(degree(graph,mode=\"in\")), var(degree(graph,mode=\"in\"))))\n",
    "    pdf(sprintf(\"plots/q19_%s_in_degree.pdf\",node))\n",
    "    hist(degree(graph,mode=\"in\"),main= paste(\"In-degree Distribution of Node ID \",node),xlab=\"Degree\")\n",
    "    dev.off()\n",
    "    \n",
    "    print(sprintf(\"out-degree : mean=%5.3f, Variance=%5.3f\", mean(degree(graph,mode=\"out\")), var(degree(graph,mode=\"out\"))))\n",
    "    pdf(sprintf(\"plots/q19_%s_out_degree.pdf\",node))\n",
    "    hist(degree(graph,mode=\"out\"),main= paste(\"Out-degree Distribution of Node ID \",node),xlab=\"Degree\")\n",
    "    dev.off() \n",
    "}"
   ]
  },
  {
   "cell_type": "code",
   "execution_count": 16,
   "metadata": {
    "vscode": {
     "languageId": "r"
    }
   },
   "outputs": [
    {
     "name": "stdout",
     "output_type": "stream",
     "text": [
      "[1] \"Node ID: 109327480479767108490\"\n",
      "[1] \"Modularity of Node ID 109327480479767108490 is 0.252765\"\n",
      "[1] \"Node ID: 115625564993990145546\"\n",
      "[1] \"Modularity of Node ID 115625564993990145546 is 0.319473\"\n",
      "[1] \"Node ID: 101373961279443806744\"\n",
      "[1] \"Modularity of Node ID 101373961279443806744 is 0.191090\"\n"
     ]
    }
   ],
   "source": [
    "for (node in node_list){\n",
    "    print(sprintf(\"Node ID: %s\",node))\n",
    "    graph = get_graph(\"gplus/\", node, directed=TRUE)\n",
    "    \n",
    "    node_community  = walktrap.community(graph)\n",
    "    node_modularity = modularity(node_community)\n",
    "    print(sprintf(\"Modularity of Node ID %s is %2.6f\", node, node_modularity))\n",
    "    \n",
    "    pdf(sprintf(\"plots/q20_%s_community_structure.pdf\",node))\n",
    "    plot(node_community, graph, main=sprintf(\"Community Structure (node ID =%s)\",node),vertex.size=5, vertex.label=NA, edge.color = \"grey\", layout=layout.fruchterman.reingold)\n",
    "    dev.off()\n",
    "    \n",
    "}"
   ]
  },
  {
   "cell_type": "code",
   "execution_count": 19,
   "metadata": {
    "vscode": {
     "languageId": "r"
    }
   },
   "outputs": [
    {
     "name": "stdout",
     "output_type": "stream",
     "text": [
      "[1] \"Node ID: 109327480479767108490\"\n",
      "[1] \"Entropy H(C) = 0.45634767\"\n",
      "[1] \"Entropy H(K) = 0.43655637\"\n",
      "[1] \"Conditional Entropy H(C|K) = 0.06759188\"\n",
      "[1] \"Conditional Entropy H(K|C) = 0.29254781\"\n",
      "[1] \"Homogeneity h= 0.85188512\"\n",
      "[1] \"Completeness c= 0.32987391\"\n",
      "\n",
      "[1] \"Node ID: 115625564993990145546\"\n",
      "[1] \"Entropy H(C) = 3.67636649\"\n",
      "[1] \"Entropy H(K) = 0.46955527\"\n",
      "[1] \"Conditional Entropy H(C|K) = 2.01505212\"\n",
      "[1] \"Conditional Entropy H(K|C) = 2.07729483\"\n",
      "[1] \"Homogeneity h= 0.45189030\"\n",
      "[1] \"Completeness c= -3.42396235\"\n",
      "\n",
      "[1] \"Node ID: 101373961279443806744\"\n",
      "[1] \"Entropy H(C) = 0.16690804\"\n",
      "[1] \"Entropy H(K) = 0.21425076\"\n",
      "[1] \"Conditional Entropy H(C|K) = 0.16626265\"\n",
      "[1] \"Conditional Entropy H(K|C) = 0.53653499\"\n",
      "[1] \"Homogeneity h= 0.00386671\"\n",
      "[1] \"Completeness c= -1.50423839\"\n",
      "\n"
     ]
    }
   ],
   "source": [
    "\n",
    "for (node in node_list){\n",
    "    strrep('**',75)\n",
    "    print(sprintf(\"Node ID: %s\",node))\n",
    "    node_circles_file_name = paste(\"gplus/\", node, \".circles\", sep=\"\")\n",
    "    node_circles_file_content = readLines(file(node_circles_file_name, open=\"r\"))\n",
    "    \n",
    "    # Get the circles for this node ID. \n",
    "    circles = list()\n",
    "    for (i in 1:length(node_circles_file_content)) {\n",
    "        circle_nodes = strsplit(node_circles_file_content[i],\"\\t\")\n",
    "        circles = c(circles, list(circle_nodes[[1]][-1]))\n",
    "    }\n",
    "    \n",
    "    # get 'N' \n",
    "    all_circles=c()\n",
    "    for ( circle in circles)\n",
    "        all_circles=c(all_circles,circle)\n",
    "    all_circle=unique(all_circles)\n",
    "    N=length(all_circle)\n",
    "    \n",
    "    # get h_c \n",
    "    h_c =0\n",
    "    for (circle in circles){\n",
    "        a_i = length(circle)\n",
    "        h_c=h_c-((a_i/N)* log10(a_i/N))\n",
    "        \n",
    "    }\n",
    "\n",
    "    # Find the community structure\n",
    "    node_graph = get_graph(\"gplus/\", node, directed=TRUE)\n",
    "    node_community  = walktrap.community(node_graph)\n",
    "    \n",
    "    #h_k, h_ck, h_kc \n",
    "    \n",
    "    h_ck=0\n",
    "    h_kc=0\n",
    "    h_k=0\n",
    "    \n",
    "    # match the community structure with the circles.\n",
    "    for(j in 1:max(node_community$membership)){\n",
    "\n",
    "        community_nodes = V(node_graph)$name[which(node_community$membership == j)]\n",
    "        b_i=length(intersect(community_nodes,all_circle))\n",
    "        if(b_i!=0) {\n",
    "            h_k =  h_k - ((b_i/N) * log10(b_i/N))\n",
    "            for (n in 1:length(circles)) {\n",
    "                common_nodes = intersect(community_nodes, circles[[n]])\n",
    "                c_ij = length(unique(common_nodes))\n",
    "                A_i = length(circles[[n]])\n",
    "                if(c_ij!=0){\n",
    "                    h_ck = - ((c_ij/N)*log10(c_ij/b_i)) + h_ck\n",
    "                    h_kc =  - ((c_ij/N)*log10(c_ij/A_i)) + h_kc\n",
    "                }\n",
    "            }\n",
    "        }\n",
    "    }\n",
    "    \n",
    "    # Calculate homogenity and completeness\n",
    "    \n",
    "    homogenity =  1-(h_ck/h_c)\n",
    "    completeness = 1- (h_kc/h_k)\n",
    "\n",
    "    print(sprintf(\"Entropy H(C) = %5.8f\",h_c))\n",
    "    print(sprintf(\"Entropy H(K) = %5.8f\",h_k))\n",
    "    print(sprintf(\"Conditional Entropy H(C|K) = %5.8f\",h_ck))\n",
    "    print(sprintf(\"Conditional Entropy H(K|C) = %5.8f\",h_kc))\n",
    "    \n",
    "    print(sprintf(\"Homogeneity h= %5.8f\", homogenity))\n",
    "    print(sprintf(\"Completeness c= %5.8f\", completeness))\n",
    "    \n",
    "\n",
    "    cat(\"\\n\")\n",
    "}"
   ]
  },
  {
   "cell_type": "code",
   "execution_count": null,
   "metadata": {
    "vscode": {
     "languageId": "r"
    }
   },
   "outputs": [],
   "source": []
  }
 ],
 "metadata": {
  "kernelspec": {
   "display_name": "R",
   "language": "R",
   "name": "ir"
  },
  "language_info": {
   "codemirror_mode": "r",
   "file_extension": ".r",
   "mimetype": "text/x-r-source",
   "name": "R",
   "pygments_lexer": "r",
   "version": "4.2.3"
  },
  "orig_nbformat": 4
 },
 "nbformat": 4,
 "nbformat_minor": 2
}
